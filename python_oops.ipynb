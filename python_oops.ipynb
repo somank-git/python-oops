{
  "nbformat": 4,
  "nbformat_minor": 0,
  "metadata": {
    "colab": {
      "provenance": []
    },
    "kernelspec": {
      "name": "python3",
      "display_name": "Python 3"
    },
    "language_info": {
      "name": "python"
    }
  },
  "cells": [
    {
      "cell_type": "code",
      "execution_count": null,
      "metadata": {
        "id": "M5ppF8e8DliQ"
      },
      "outputs": [],
      "source": []
    },
    {
      "cell_type": "markdown",
      "source": [
        " 1. What is Object-Oriented Programming (OOP)1\n",
        "Ans: Object-Oriented Programming (OOP) is a programming paradigm that organizes software design around objects, which are instances of classes. It uses key principles like encapsulation, inheritance, polymorphism, and abstraction to model real-world entities, promote code reusability, and improve modularity and maintainability."
      ],
      "metadata": {
        "id": "-_qXlJTRD-0O"
      }
    }
  ]
}